{
 "cells": [
  {
   "cell_type": "code",
   "execution_count": 1,
   "metadata": {
    "collapsed": true
   },
   "outputs": [],
   "source": [
    "%matplotlib inline"
   ]
  },
  {
   "cell_type": "code",
   "execution_count": 2,
   "metadata": {
    "collapsed": false
   },
   "outputs": [
    {
     "name": "stderr",
     "output_type": "stream",
     "text": [
      "/Library/Frameworks/Python.framework/Versions/3.5/lib/python3.5/site-packages/IPython/html.py:14: ShimWarning: The `IPython.html` package has been deprecated. You should import from `notebook` instead. `IPython.html.widgets` has moved to `ipywidgets`.\n",
      "  \"`IPython.html.widgets` has moved to `ipywidgets`.\", ShimWarning)\n"
     ]
    }
   ],
   "source": [
    "import seaborn as sns\n",
    "import matplotlib.pyplot as plt\n",
    "import numpy as np"
   ]
  },
  {
   "cell_type": "code",
   "execution_count": 6,
   "metadata": {
    "collapsed": false
   },
   "outputs": [
    {
     "data": {
      "text/plain": [
       "(0, 14.0)"
      ]
     },
     "execution_count": 6,
     "metadata": {},
     "output_type": "execute_result"
    },
    {
     "data": {
      "image/png": "[encoded data removed]",
      "text/plain": [
       "<matplotlib.figure.Figure at 0x111f91c50>"
      ]
     },
     "metadata": {},
     "output_type": "display_data"
    }
   ],
   "source": [
    "import pylab\n",
    "import matplotlib.pyplot as plt\n",
    "from scipy.interpolate import spline\n",
    "import scipy.signal as signal\n",
    "import pandas as pd\n",
    "import collections\n",
    "from matplotlib import pyplot as plt, gridspec\n",
    "\n",
    "list_of_files = [\n",
    "                (\"timings--no-dbpath.dat\", \"No dbpath\"),\n",
    "                (\"timings--with-dbpath.dat\", \"With dbpath\")\n",
    "                ]\n",
    "\n",
    "# print parsed_kwargs\n",
    "\n",
    "results_dict = {'with-dbpath':collections.defaultdict(list), 'no-dbpath':collections.defaultdict(list)}\n",
    "marker_dict = {'with-dbpath':'o', 'no-dbpath':'v'}\n",
    "# marker_style = dict(linestyle=':', markersize=8)\n",
    "marker_style = dict(markersize=8)\n",
    "usecase_set = set()\n",
    "\n",
    "for k, resd in results_dict.items():\n",
    "    for filename, ll in list_of_files:\n",
    "        if k not in filename:\n",
    "            continue\n",
    "        data = pd.read_csv(filename, sep=\" \", header=None)\n",
    "        data.columns = [\"ntrees\", \"depth\", \"nbranches\", \"timing_mean\", \"timing_sem\"]\n",
    "        # Now I will sort into \"Usecases\", given by depth/nbranches.\n",
    "        for d, b in set((d, b) for d, b in zip(data.depth, data.nbranches)):\n",
    "            mask = ((data.depth==d) & (data.nbranches==b))\n",
    "            for ntree, timing, sem in zip(data.ntrees[mask].tolist(), data.timing_mean[mask].tolist(), data.timing_sem[mask].tolist()):\n",
    "                resd[(d,b)] += [(ntree, timing, sem)]\n",
    "            usecase_set.add((d,b))\n",
    "\n",
    "fig = plt.figure(figsize=(4,3))\n",
    "gs = gridspec.GridSpec(1,1, bottom=0.15, left=0.14, right=0.98, top=0.91)\n",
    "\n",
    "ax = fig.add_subplot(gs[0])\n",
    "usecase_set = set(((4,4), \n",
    "        (2,2)\n",
    "     )) \n",
    "#(2,2)))\n",
    "ax.plot([],[], marker_dict['with-dbpath'], color='black', label='TC-TAB', **marker_style)\n",
    "ax.plot([],[], marker_dict['no-dbpath'], color='black', label='TC-OTF', **marker_style)\n",
    "ax.set_title('Total CPU time for TC-queries')\n",
    "ax.set_ylabel(r'CPU time (ms)')\n",
    "ax.set_xlabel(r'Number of trees')\n",
    "for use_case in usecase_set:\n",
    "#     print results_dict['with-dbpath'][use_case]\n",
    "    ntrees, timings, err = map(np.array, zip(*sorted(results_dict['with-dbpath'][use_case])))\n",
    "    timings *=  1e3 # convert to ms\n",
    "    err *= 1e3\n",
    "    label = '-'.join(map(str, use_case)) +'-DBPATH'\n",
    "    l = ax.errorbar(ntrees, timings, yerr=err, marker=marker_dict['with-dbpath'],  **marker_style)[0]\n",
    "\n",
    "\n",
    "    ntrees, timings, err = map(np.array, zip(*sorted(results_dict['no-dbpath'][use_case])))\n",
    "    timings *=  1e3 # convert to ms\n",
    "    err *= 1e3\n",
    "    label = '-'.join(map(str, use_case)) +'-OTF'\n",
    "    ax.errorbar(ntrees, timings, yerr=err, marker=marker_dict['no-dbpath'], color=l.get_color(), **marker_style)\n",
    "    ax.plot([],[], color=l.get_color(), label='D:{}, B:{}'.format(*use_case), **marker_style)\n",
    "\n",
    "leg = plt.legend(loc='lower right', ncol=2)\n",
    "leg.set_alpha(0.9)\n",
    "plt.ylim(0,)\n",
    "\n"
   ]
  },
  {
   "cell_type": "code",
   "execution_count": null,
   "metadata": {
    "collapsed": true
   },
   "outputs": [],
   "source": []
  },
  {
   "cell_type": "code",
   "execution_count": null,
   "metadata": {
    "collapsed": true
   },
   "outputs": [],
   "source": []
  },
  {
   "cell_type": "code",
   "execution_count": null,
   "metadata": {
    "collapsed": true
   },
   "outputs": [],
   "source": []
  }
 ],
 "metadata": {
  "kernelspec": {
   "display_name": "Python 3",
   "language": "python",
   "name": "python3"
  },
  "language_info": {
   "codemirror_mode": {
    "name": "ipython",
    "version": 3
   },
   "file_extension": ".py",
   "mimetype": "text/x-python",
   "name": "python",
   "nbconvert_exporter": "python",
   "pygments_lexer": "ipython3",
   "version": "3.5.1"
  }
 },
 "nbformat": 4,
 "nbformat_minor": 1
}
